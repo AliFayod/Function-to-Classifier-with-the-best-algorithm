{
 "cells": [
  {
   "cell_type": "markdown",
   "metadata": {},
   "source": [
    "# 1- Fun that receives the features and the target (data set) \n",
    "# 2- Uses a number of classification algorithms to train and test the model\n",
    "# 3- Return the algorithm that has highest accuracy"
   ]
  },
  {
   "cell_type": "code",
   "execution_count": 1,
   "metadata": {},
   "outputs": [],
   "source": [
    "#after prepare and split dataset\n",
    "def ali (X_train,Y_train,X_test,Y_test):\n",
    "    #Classification\n",
    "    \n",
    "    #Logistic Regression\n",
    "    from sklearn.linear_model import LogisticRegression\n",
    "    LR = LogisticRegression(C=0.1, solver='liblinear').fit(X_train,Y_train)\n",
    "    \n",
    "    #Support Vector Machine\n",
    "    from sklearn import svm\n",
    "    clf = svm.SVC(kernel='rbf')\n",
    "    clf.fit(X_train, Y_train)\n",
    "    \n",
    "    #Decision Tree\n",
    "    from sklearn.tree import DecisionTreeClassifier\n",
    "    Tree = DecisionTreeClassifier(criterion=\"entropy\", max_depth = 4)\n",
    "    Tree.fit(X_train,Y_train)\n",
    "    \n",
    "    #random forests\n",
    "    from sklearn.ensemble import RandomForestClassifier\n",
    "    forest = RandomForestClassifier(criterion='gini',n_estimators=25, random_state=2, n_jobs=1)\n",
    "    forest.fit(X_train, y_train)\n",
    "    \n",
    "    #Model Evaluation using Test set\n",
    "    from sklearn.metrics import accuracy_score\n",
    "    \n",
    "    #Evaluation Decision Tree \n",
    "    yhat_Tree = Tree.predict(X_test)\n",
    "    eTree=Tree.score(Y_test, yhat_Tree)\n",
    "    \n",
    "    #Evaluation Logistic Regression\n",
    "    yhat_LR = LR.predict(X_test)\n",
    "    eLR=LR.score(Y_test, yhat_LR)\n",
    "    \n",
    "    #Evaluation Support Vector Machine\n",
    "    yhat_svm = clf.predict(X_test)\n",
    "    eSVM=clf.score(Y_test, yhat_svm)\n",
    "    \n",
    "    #Evaluation random forests\n",
    "    yhat_forest = forest.predict(X_test)\n",
    "    eForest=forest.score(Y_test, yhat_forest)\n",
    "    \n",
    "    \n",
    "    d = {'Tree': eTree, 'LR': eLR, 'SVM': eSVM,'Forest':eForest}\n",
    "    maximum = max(d, key=d.get)\n",
    "    print ('The best algorithm  Is : ',maximum,' it have Max accuracy = ',d[maximum] ) "
   ]
  }
 ],
 "metadata": {
  "kernelspec": {
   "display_name": "Python 3",
   "language": "python",
   "name": "python3"
  },
  "language_info": {
   "codemirror_mode": {
    "name": "ipython",
    "version": 3
   },
   "file_extension": ".py",
   "mimetype": "text/x-python",
   "name": "python",
   "nbconvert_exporter": "python",
   "pygments_lexer": "ipython3",
   "version": "3.7.0"
  }
 },
 "nbformat": 4,
 "nbformat_minor": 2
}
